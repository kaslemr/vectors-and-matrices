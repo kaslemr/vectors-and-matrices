{
 "cells": [
  {
   "cell_type": "code",
   "execution_count": 5,
   "metadata": {
    "collapsed": false
   },
   "outputs": [
    {
     "ename": "SyntaxError",
     "evalue": "invalid syntax (<ipython-input-5-10933448dec0>, line 51)",
     "output_type": "error",
     "traceback": [
      "\u001b[0;36m  File \u001b[0;32m\"<ipython-input-5-10933448dec0>\"\u001b[0;36m, line \u001b[0;32m51\u001b[0m\n\u001b[0;31m    return output_vector = [num * scalar for num in vector]\u001b[0m\n\u001b[0m                         ^\u001b[0m\n\u001b[0;31mSyntaxError\u001b[0m\u001b[0;31m:\u001b[0m invalid syntax\n"
     ]
    }
   ],
   "source": [
    "m = [3, 4]\n",
    "n = [5, 0]\n",
    "\n",
    "v = [1, 3, 0]\n",
    "w = [0, 2, 4]\n",
    "u = [1, 1, 1]\n",
    "y = [10, 20, 30]\n",
    "z = [0, 0, 0]\n",
    "\n",
    "A = [[1, 0, 0],\n",
    "     [0, 1, 0],\n",
    "     [0, 0, 1]]\n",
    "B = [[1, 2, 3],\n",
    "     [4, 5, 6],\n",
    "     [7, 8, 9]]\n",
    "C = [[1, 2],\n",
    "     [2, 1],\n",
    "     [1, 2]]\n",
    "D = [[1, 2, 3],\n",
    "     [3, 2, 1]]\n",
    "\n",
    "class ShapeException(Exception):\n",
    "    pass\n",
    "\n",
    "\n",
    "def dot():\n",
    "    output_vector = []\n",
    "    counter = -1\n",
    "    for x in vector_a:\n",
    "        counter += 1\n",
    "        addition_num = vector_b[counter]\n",
    "        new_num = x * addition_num\n",
    "        output_vector.append(new_num)\n",
    "    return sum(output_vector)\n",
    "\n",
    "\n",
    "\n",
    "def magnitude():\n",
    "    total = 0\n",
    "    for x in vector_a:\n",
    "    total += x**2\n",
    "    return total**0.5\n",
    "\n",
    "def shape():\n",
    "    pass\n",
    "\n",
    "\n",
    "def vector_add():\n",
    "    pass\n",
    "\n",
    "\n",
    "def vector_sub():\n",
    "    pass\n",
    "\n",
    "\n",
    "def vector_sum():\n",
    "    pass\n",
    "\n",
    "\n",
    "def vector_multiply():\n",
    "    return output_vector = [num * scalar for num in vector]\n",
    "\n",
    "def vector_multiply():\n",
    "    \n",
    "def vector_mean():\n",
    "    pass\n",
    "\n",
    "\n",
    "def matrix_row():\n",
    "    pass\n",
    "\n",
    "\n",
    "def matrix_col():\n",
    "    pass\n",
    "\n",
    "\n",
    "def matrix_scalar_multiply():\n",
    "    pass\n",
    "\n",
    "\n",
    "def matrix_vector_multiply():\n",
    "    pass\n",
    "\n",
    "\n",
    "def matrix_matrix_multiply():\n",
    "    pass\n",
    "\n"
   ]
  },
  {
   "cell_type": "code",
   "execution_count": 24,
   "metadata": {
    "collapsed": false
   },
   "outputs": [
    {
     "ename": "IndentationError",
     "evalue": "unexpected indent (<ipython-input-24-92ea8b90d45f>, line 9)",
     "output_type": "error",
     "traceback": [
      "\u001b[0;36m  File \u001b[0;32m\"<ipython-input-24-92ea8b90d45f>\"\u001b[0;36m, line \u001b[0;32m9\u001b[0m\n\u001b[0;31m    if:\u001b[0m\n\u001b[0m    ^\u001b[0m\n\u001b[0;31mIndentationError\u001b[0m\u001b[0;31m:\u001b[0m unexpected indent\n"
     ]
    }
   ],
   "source": [
    "# Building exception for vectors\n",
    "\n",
    "matrix_a = [1,2,3]\n",
    "matrix_b = [1,2]\n",
    "\n",
    "print(type)\n",
    "for row in matrix_a:\n",
    "    try: \n",
    "        type(row) == list\n",
    "        if:\n",
    "            len(row) == len(matrix_b)\n",
    "            break\n",
    "        else:\n",
    "            print(\"The matrices are not compatible.\")\n",
    "        break\n",
    "    if type(row) == \"int\":        \n",
    "        try:\n",
    "            len(matrix_a) == len(matrix_b)\n",
    "        except:\n",
    "            print(\"The vectors must be the same length.\")\n",
    "        break\n",
    "    else:\n",
    "        print(\"Please enter an acceptable vector or matrix.\")\n",
    "        break\n",
    "        \n",
    "\n"
   ]
  },
  {
   "cell_type": "code",
   "execution_count": 18,
   "metadata": {
    "collapsed": false
   },
   "outputs": [
    {
     "name": "stdout",
     "output_type": "stream",
     "text": [
      "[4, 4, 7]\n"
     ]
    }
   ],
   "source": [
    "# Vector addition and subtraction second try\n",
    "\n",
    "def vector_add(vector_a, vector_b):\n",
    "    output_vector = []\n",
    "    counter = -1\n",
    "    for x in vector_a:\n",
    "        counter += 1\n",
    "        addition_num = vector_b[counter]\n",
    "        new_num = x + addition_num\n",
    "        output_vector.append(new_num)\n",
    "        continue\n",
    "    print(output_vector)\n",
    "\n",
    "vector_add([2,3,4], [2,1,3])\n",
    "\n"
   ]
  },
  {
   "cell_type": "code",
   "execution_count": 96,
   "metadata": {
    "collapsed": false,
    "scrolled": true
   },
   "outputs": [
    {
     "name": "stdout",
     "output_type": "stream",
     "text": [
      "[1, 3, 0]\n"
     ]
    }
   ],
   "source": [
    "m = [3, 4]\n",
    "n = [5, 0]\n",
    "\n",
    "v = [1, 3, 0]\n",
    "w = [0, 2, 4]\n",
    "u = [1, 1, 1]\n",
    "y = [10, 20, 30]\n",
    "z = [0, 0, 0]\n",
    "\n",
    "# Mean of multiple vectors\n",
    "def vector_add(vector_a, *vector_x):\n",
    "    output_vector = []\n",
    "    for vector in vector_x:\n",
    "        counter = -1\n",
    "        for a in vector:\n",
    "            counter += 1\n",
    "            addition_num = vector_a[counter]  \n",
    "            new_num = a + addition_num \n",
    "            output_vector.append(new_num)\n",
    "        return output_vector\n",
    "            #addition_num = vector_x[counter]\n",
    "            #new_num = x + addition_num\n",
    "        #return output_vector.append(new_num)\n",
    "    #return output_vector\n",
    "print(vector_add(v, z, y))\n",
    "\n"
   ]
  },
  {
   "cell_type": "code",
   "execution_count": 28,
   "metadata": {
    "collapsed": false
   },
   "outputs": [
    {
     "ename": "SyntaxError",
     "evalue": "invalid syntax (<ipython-input-28-8b62596abf3a>, line 2)",
     "output_type": "error",
     "traceback": [
      "\u001b[0;36m  File \u001b[0;32m\"<ipython-input-28-8b62596abf3a>\"\u001b[0;36m, line \u001b[0;32m2\u001b[0m\n\u001b[0;31m    def\u001b[0m\n\u001b[0m        ^\u001b[0m\n\u001b[0;31mSyntaxError\u001b[0m\u001b[0;31m:\u001b[0m invalid syntax\n"
     ]
    }
   ],
   "source": [
    "#shape function\n",
    "def "
   ]
  },
  {
   "cell_type": "code",
   "execution_count": 31,
   "metadata": {
    "collapsed": false
   },
   "outputs": [
    {
     "data": {
      "text/plain": [
       "[4, 6, 8]"
      ]
     },
     "execution_count": 31,
     "metadata": {},
     "output_type": "execute_result"
    }
   ],
   "source": [
    "#vector scalor multiplication\n",
    "\n",
    "def vector_scalar_mult(vector):\n",
    "    output_vector = []\n",
    "    scalar = input(\"Select your scalar: \")\n",
    "    scalar = int(scalar)\n",
    "    for num in vector:\n",
    "        calculated_num = num * scalar\n",
    "        output_vector.append(calculated_num)\n",
    "    print(output_vector)\n",
    "\n",
    "def vector_scalar_mult2(scalar, vector):\n",
    "    output_vector = [num * scalar for num in vector]\n",
    "    return output_vector\n",
    "\n",
    "vector_scalar_mult2(2,[2,3,4])"
   ]
  },
  {
   "cell_type": "code",
   "execution_count": 131,
   "metadata": {
    "collapsed": false
   },
   "outputs": [
    {
     "data": {
      "text/plain": [
       "0"
      ]
     },
     "execution_count": 131,
     "metadata": {},
     "output_type": "execute_result"
    }
   ],
   "source": [
    "# Dot product\n",
    "m = [3, 4]\n",
    "n = [5, 0]\n",
    "\n",
    "v = [1, 3, 0]\n",
    "w = [0, 2, 4]\n",
    "u = [1, 1, 1]\n",
    "y = [10, 20, 30]\n",
    "z = [0, 0, 0]\n",
    "\n",
    "def vector_add(vector_a, vector_b):\n",
    "    output_vector = []\n",
    "    counter = -1\n",
    "    for x in vector_a:\n",
    "        counter += 1\n",
    "        addition_num = vector_b[counter]\n",
    "        new_num = x * addition_num\n",
    "        output_vector.append(new_num)\n",
    "    return sum(output_vector)\n",
    "\n",
    "vector_add(u, z)"
   ]
  },
  {
   "cell_type": "code",
   "execution_count": 133,
   "metadata": {
    "collapsed": false
   },
   "outputs": [
    {
     "name": "stdout",
     "output_type": "stream",
     "text": [
      "[[-1, -2, -3], [-7, -8, -9], [-8, -8, -9]]\n"
     ]
    },
    {
     "ename": "NameError",
     "evalue": "name 'C' is not defined",
     "output_type": "error",
     "traceback": [
      "\u001b[0;31m---------------------------------------------------------------------------\u001b[0m",
      "\u001b[0;31mNameError\u001b[0m                                 Traceback (most recent call last)",
      "\u001b[0;32m<ipython-input-133-3cd04d7bc27e>\u001b[0m in \u001b[0;36m<module>\u001b[0;34m()\u001b[0m\n\u001b[1;32m     16\u001b[0m     \u001b[0mnew_matrix\u001b[0m \u001b[0;34m=\u001b[0m \u001b[0;34m[\u001b[0m\u001b[0;34m[\u001b[0m\u001b[0mcol\u001b[0m \u001b[0;34m*\u001b[0m \u001b[0mscalar\u001b[0m \u001b[0;32mfor\u001b[0m \u001b[0mcol\u001b[0m \u001b[0;32min\u001b[0m \u001b[0mrow\u001b[0m\u001b[0;34m]\u001b[0m \u001b[0;32mfor\u001b[0m \u001b[0mrow\u001b[0m \u001b[0;32min\u001b[0m \u001b[0mmatrix\u001b[0m\u001b[0;34m]\u001b[0m\u001b[0;34m\u001b[0m\u001b[0m\n\u001b[1;32m     17\u001b[0m     \u001b[0;32mreturn\u001b[0m \u001b[0mnew_matrix\u001b[0m\u001b[0;34m\u001b[0m\u001b[0m\n\u001b[0;32m---> 18\u001b[0;31m \u001b[0mnew_matrix\u001b[0m\u001b[0;34m(\u001b[0m\u001b[0mC\u001b[0m\u001b[0;34m,\u001b[0m\u001b[0;36m3\u001b[0m\u001b[0;34m)\u001b[0m\u001b[0;34m\u001b[0m\u001b[0m\n\u001b[0m\u001b[1;32m     19\u001b[0m \u001b[0;34m\u001b[0m\u001b[0m\n\u001b[1;32m     20\u001b[0m \u001b[0;32mdef\u001b[0m \u001b[0mscalar_multiply\u001b[0m\u001b[0;34m(\u001b[0m\u001b[0my\u001b[0m\u001b[0;34m)\u001b[0m\u001b[0;34m:\u001b[0m\u001b[0;34m\u001b[0m\u001b[0m\n",
      "\u001b[0;31mNameError\u001b[0m: name 'C' is not defined"
     ]
    }
   ],
   "source": [
    "#multiplication by scalar\n",
    "output_matrix = []\n",
    "scalar = -1\n",
    "matrix = [[1,2,3], [7, 8, 9], [8, 8, 9]]\n",
    "\n",
    "for row in matrix:\n",
    "    output_row = []\n",
    "    for column in row:\n",
    "        calculated_value = column * scalar\n",
    "        output_row.append(calculated_value)\n",
    "    output_matrix.append(output_row)\n",
    "print(output_matrix)\n",
    "\n",
    "#same as:\n",
    "def new_matrix(matrix, scalar):\n",
    "    new_matrix = [[col * scalar for col in row] for row in matrix]\n",
    "    return new_matrix \n",
    "new_matrix(C,3)\n",
    "\n",
    "def scalar_multiply(y):\n",
    "    return y * scalar\n",
    "\n",
    "#same as\n",
    "list(map(lambda x: list(map(scalar_multiply, x)), matrix))\n"
   ]
  },
  {
   "cell_type": "code",
   "execution_count": 134,
   "metadata": {
    "collapsed": false
   },
   "outputs": [
    {
     "name": "stdout",
     "output_type": "stream",
     "text": [
      "[[-1, -2, -3], [-7, -8, -9], [-8, -8, -9], [-1, -2, -3], [-7, -8, -9], [-8, -8, -9]]\n"
     ]
    }
   ],
   "source": [
    "for row in matrix:\n",
    "    output_row = []\n",
    "    for column in row:\n",
    "        calculated_value = column * scalar\n",
    "        output_row.append(calculated_value)\n",
    "    output_matrix.append(output_row)\n",
    "print(output_matrix)"
   ]
  },
  {
   "cell_type": "code",
   "execution_count": 135,
   "metadata": {
    "collapsed": true
   },
   "outputs": [],
   "source": [
    "def vector_add(vector_a, vector_b):\n",
    "    output_vector = []\n",
    "    counter = -1\n",
    "    for x in vector_a:\n",
    "        counter += 1\n",
    "        addition_num = vector_b[counter]\n",
    "        new_num = x + addition_num\n",
    "        output_vector.append(new_num)\n",
    "        continue\n",
    "    print(output_vector)"
   ]
  },
  {
   "cell_type": "code",
   "execution_count": 142,
   "metadata": {
    "collapsed": false
   },
   "outputs": [
    {
     "name": "stdout",
     "output_type": "stream",
     "text": [
      "[14, 32, 50]\n"
     ]
    }
   ],
   "source": [
    "vector_a = [1,2,3]\n",
    "matrix = [[1, 2, 3], [4, 5, 6], [7, 8, 9]]\n",
    "\n",
    "def matrix_vector_multiplication(matrix, vector):\n",
    "    output_matrix = []\n",
    "    for row in matrix:\n",
    "        output_row = []\n",
    "        counter = -1\n",
    "        for column in row:\n",
    "            counter += 1\n",
    "            calculated_value = column * vector_a[counter]\n",
    "            output_row.append(calculated_value)\n",
    "        output_row = sum(output_row)\n",
    "        output_matrix.append(output_row)\n",
    "    print(output_matrix)\n",
    "    "
   ]
  },
  {
   "cell_type": "code",
   "execution_count": 143,
   "metadata": {
    "collapsed": true
   },
   "outputs": [],
   "source": [
    "#def test_shape_vectors():\n",
    "    #\"\"\"shape should take a vector or matrix and return a tuple with the\n",
    "    #number of rows (for a vector) or the number of rows and columns\n",
    "    #(for a matrix.)\"\"\"\n",
    "    #assert shape(m) == (2,)\n",
    "    #assert shape(v) == (3,)\n",
    "    #assert shape([1]) == (1,)\n"
   ]
  },
  {
   "cell_type": "code",
   "execution_count": 147,
   "metadata": {
    "collapsed": false
   },
   "outputs": [
    {
     "name": "stdout",
     "output_type": "stream",
     "text": [
      "0\n"
     ]
    }
   ],
   "source": [
    "vector_size = ()\n",
    "counter = 0\n",
    "matrix = []\n",
    "for num in vector:\n",
    "    counter += 1\n",
    "    if \n",
    "print(counter)\n"
   ]
  },
  {
   "cell_type": "code",
   "execution_count": 227,
   "metadata": {
    "collapsed": false
   },
   "outputs": [
    {
     "name": "stdout",
     "output_type": "stream",
     "text": [
      "(4, 2)\n"
     ]
    }
   ],
   "source": [
    "vector = [1,2,3,3,3]\n",
    "matrix = [[1,2], [2,4], [1,2], [2,3]]\n",
    "size = []\n",
    "row_counter = 0\n",
    "column_counter = 0\n",
    "\n",
    "    for row in matrix:\n",
    "        row_counter += 1\n",
    "        if type(row) == list:\n",
    "            for x in row:\n",
    "                column_counter += 1\n",
    "    column_counter = int(column_counter / row_counter)\n",
    "    size.append(row_counter)\n",
    "    size.append(column_counter)\n",
    "    if size[1] == 0:\n",
    "        del size[1]\n",
    "    size = tuple(size)\n",
    "    print(size)"
   ]
  },
  {
   "cell_type": "code",
   "execution_count": 166,
   "metadata": {
    "collapsed": false
   },
   "outputs": [
    {
     "name": "stdout",
     "output_type": "stream",
     "text": [
      "26\n"
     ]
    }
   ],
   "source": []
  },
  {
   "cell_type": "code",
   "execution_count": 184,
   "metadata": {
    "collapsed": false
   },
   "outputs": [
    {
     "data": {
      "text/plain": [
       "(3,)"
      ]
     },
     "execution_count": 184,
     "metadata": {},
     "output_type": "execute_result"
    }
   ],
   "source": [
    "# Correct check for vector size\n",
    "\n",
    "vectora = [1,2,3]\n",
    "counter = 0\n",
    "size = []\n",
    "\n",
    "for x in vector:\n",
    "    counter += 1\n",
    "size.append(counter)\n",
    "tuple(size)\n",
    "#type(size)\n"
   ]
  },
  {
   "cell_type": "code",
   "execution_count": 228,
   "metadata": {
    "collapsed": true
   },
   "outputs": [],
   "source": [
    "def test_matrix_row():\n",
    "    \"\"\"\n",
    "           0 1  <- rows\n",
    "       0 [[a b]]\n",
    "       1 [[c d]]\n",
    "       ^\n",
    "     columns\n",
    "    \"\"\"\n",
    "    assert matrix_row(A, 0) == [1, 0, 0]\n",
    "    assert matrix_row(B, 1) == [4, 5, 6]\n",
    "    assert matrix_row(C, 2) == [1, 2]\n",
    "\n",
    "\n",
    "def test_matrix_col():\n",
    "    \"\"\"\n",
    "           0 1  <- rows\n",
    "       0 [[a b]]\n",
    "       1 [[c d]]\n",
    "       ^\n",
    "     columns\n",
    "    \"\"\"\n",
    "    assert matrix_col(A, 0) == [1, 0, 0]\n",
    "    assert matrix_col(B, 1) == [2, 5, 8]\n",
    "    assert matrix_col(D, 2) == [3, 1]"
   ]
  },
  {
   "cell_type": "code",
   "execution_count": 272,
   "metadata": {
    "collapsed": false
   },
   "outputs": [
    {
     "ename": "IndexError",
     "evalue": "list index out of range",
     "output_type": "error",
     "traceback": [
      "\u001b[0;31m---------------------------------------------------------------------------\u001b[0m",
      "\u001b[0;31mIndexError\u001b[0m                                Traceback (most recent call last)",
      "\u001b[0;32m<ipython-input-272-d2dfe904811c>\u001b[0m in \u001b[0;36m<module>\u001b[0;34m()\u001b[0m\n\u001b[1;32m     17\u001b[0m         \u001b[0;32mreturn\u001b[0m \u001b[0;34m\"Please type an integer.\"\u001b[0m\u001b[0;34m\u001b[0m\u001b[0m\n\u001b[1;32m     18\u001b[0m \u001b[0;34m\u001b[0m\u001b[0m\n\u001b[0;32m---> 19\u001b[0;31m \u001b[0mmatrix_col\u001b[0m\u001b[0;34m(\u001b[0m\u001b[0mB\u001b[0m\u001b[0;34m,\u001b[0m \u001b[0;36m3\u001b[0m\u001b[0;34m)\u001b[0m\u001b[0;34m\u001b[0m\u001b[0m\n\u001b[0m\u001b[1;32m     20\u001b[0m \u001b[0;34m\u001b[0m\u001b[0m\n",
      "\u001b[0;32m<ipython-input-272-d2dfe904811c>\u001b[0m in \u001b[0;36mmatrix_col\u001b[0;34m(matrix, row)\u001b[0m\n\u001b[1;32m     13\u001b[0m             \u001b[0;32mraise\u001b[0m \u001b[0mIndexError\u001b[0m\u001b[0;34m\u001b[0m\u001b[0m\n\u001b[1;32m     14\u001b[0m     \u001b[0;32mif\u001b[0m \u001b[0mtype\u001b[0m\u001b[0;34m(\u001b[0m\u001b[0mrow\u001b[0m\u001b[0;34m)\u001b[0m \u001b[0;34m==\u001b[0m \u001b[0mint\u001b[0m\u001b[0;34m:\u001b[0m\u001b[0;34m\u001b[0m\u001b[0m\n\u001b[0;32m---> 15\u001b[0;31m         \u001b[0;32mreturn\u001b[0m \u001b[0mmatrix\u001b[0m\u001b[0;34m[\u001b[0m\u001b[0mrow\u001b[0m\u001b[0;34m]\u001b[0m\u001b[0;34m\u001b[0m\u001b[0m\n\u001b[0m\u001b[1;32m     16\u001b[0m     \u001b[0;32melse\u001b[0m\u001b[0;34m:\u001b[0m\u001b[0;34m\u001b[0m\u001b[0m\n\u001b[1;32m     17\u001b[0m         \u001b[0;32mreturn\u001b[0m \u001b[0;34m\"Please type an integer.\"\u001b[0m\u001b[0;34m\u001b[0m\u001b[0m\n",
      "\u001b[0;31mIndexError\u001b[0m: list index out of range"
     ]
    }
   ],
   "source": [
    "B = [[1, 2, 3],\n",
    "     [4, 5, 6],\n",
    "     [7, 8, 9],\n",
    "        ]\n",
    "row = 2\n",
    "def MattError():\n",
    "    if row > len(matrix):\n",
    "        raise IndexError\n",
    "\n",
    "def matrix_col(matrix, row):\n",
    "    if type(row) == int:\n",
    "        return matrix[row]\n",
    "    else:\n",
    "        return \"Please type an integer.\"\n",
    "\n",
    "matrix_col(B, 3)    \n",
    "\n"
   ]
  },
  {
   "cell_type": "code",
   "execution_count": 288,
   "metadata": {
    "collapsed": false
   },
   "outputs": [],
   "source": [
    "B = [[1, 2, 3],\n",
    "     [4, 5, 6],\n",
    "     [7, 8, 9],]\n",
    "row = 3\n",
    "def check_shape(matrix, row):\n",
    "    if row > len(matrix):\n",
    "        raise ShapeException()\n",
    "\n",
    "check_shape(B,row)\n"
   ]
  },
  {
   "cell_type": "code",
   "execution_count": null,
   "metadata": {
    "collapsed": true
   },
   "outputs": [],
   "source": []
  }
 ],
 "metadata": {
  "kernelspec": {
   "display_name": "Python 3",
   "language": "python",
   "name": "python3"
  },
  "language_info": {
   "codemirror_mode": {
    "name": "ipython",
    "version": 3
   },
   "file_extension": ".py",
   "mimetype": "text/x-python",
   "name": "python",
   "nbconvert_exporter": "python",
   "pygments_lexer": "ipython3",
   "version": "3.5.0"
  }
 },
 "nbformat": 4,
 "nbformat_minor": 0
}
