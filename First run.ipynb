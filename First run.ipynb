{
 "cells": [
  {
   "cell_type": "code",
   "execution_count": 5,
   "metadata": {
    "collapsed": false
   },
   "outputs": [
    {
     "ename": "SyntaxError",
     "evalue": "invalid syntax (<ipython-input-5-10933448dec0>, line 51)",
     "output_type": "error",
     "traceback": [
      "\u001b[0;36m  File \u001b[0;32m\"<ipython-input-5-10933448dec0>\"\u001b[0;36m, line \u001b[0;32m51\u001b[0m\n\u001b[0;31m    return output_vector = [num * scalar for num in vector]\u001b[0m\n\u001b[0m                         ^\u001b[0m\n\u001b[0;31mSyntaxError\u001b[0m\u001b[0;31m:\u001b[0m invalid syntax\n"
     ]
    }
   ],
   "source": [
    "m = [3, 4]\n",
    "n = [5, 0]\n",
    "\n",
    "v = [1, 3, 0]\n",
    "w = [0, 2, 4]\n",
    "u = [1, 1, 1]\n",
    "y = [10, 20, 30]\n",
    "z = [0, 0, 0]\n",
    "\n",
    "A = [[1, 0, 0],\n",
    "     [0, 1, 0],\n",
    "     [0, 0, 1]]\n",
    "B = [[1, 2, 3],\n",
    "     [4, 5, 6],\n",
    "     [7, 8, 9]]\n",
    "C = [[1, 2],\n",
    "     [2, 1],\n",
    "     [1, 2]]\n",
    "D = [[1, 2, 3],\n",
    "     [3, 2, 1]]\n",
    "\n",
    "class ShapeException(Exception):\n",
    "    pass\n",
    "\n",
    "\n",
    "def dot():\n",
    "    output_vector = []\n",
    "    counter = -1\n",
    "    for x in vector_a:\n",
    "        counter += 1\n",
    "        addition_num = vector_b[counter]\n",
    "        new_num = x * addition_num\n",
    "        output_vector.append(new_num)\n",
    "    return sum(output_vector)\n",
    "\n",
    "\n",
    "\n",
    "def magnitude():\n",
    "    total = 0\n",
    "    for x in vector_a:\n",
    "    total += x**2\n",
    "    return total**0.5\n",
    "\n",
    "def shape():\n",
    "    pass\n",
    "\n",
    "\n",
    "def vector_add():\n",
    "    pass\n",
    "\n",
    "\n",
    "def vector_sub():\n",
    "    pass\n",
    "\n",
    "\n",
    "def vector_sum():\n",
    "    pass\n",
    "\n",
    "\n",
    "def vector_multiply():\n",
    "    return output_vector = [num * scalar for num in vector]\n",
    "\n",
    "def vector_multiply():\n",
    "    \n",
    "def vector_mean():\n",
    "    pass\n",
    "\n",
    "\n",
    "def matrix_row():\n",
    "    pass\n",
    "\n",
    "\n",
    "def matrix_col():\n",
    "    pass\n",
    "\n",
    "\n",
    "def matrix_scalar_multiply():\n",
    "    pass\n",
    "\n",
    "\n",
    "def matrix_vector_multiply():\n",
    "    pass\n",
    "\n",
    "\n",
    "def matrix_matrix_multiply():\n",
    "    pass\n",
    "\n"
   ]
  },
  {
   "cell_type": "code",
   "execution_count": 24,
   "metadata": {
    "collapsed": false
   },
   "outputs": [
    {
     "ename": "IndentationError",
     "evalue": "unexpected indent (<ipython-input-24-92ea8b90d45f>, line 9)",
     "output_type": "error",
     "traceback": [
      "\u001b[0;36m  File \u001b[0;32m\"<ipython-input-24-92ea8b90d45f>\"\u001b[0;36m, line \u001b[0;32m9\u001b[0m\n\u001b[0;31m    if:\u001b[0m\n\u001b[0m    ^\u001b[0m\n\u001b[0;31mIndentationError\u001b[0m\u001b[0;31m:\u001b[0m unexpected indent\n"
     ]
    }
   ],
   "source": [
    "# Building exception for vectors\n",
    "\n",
    "matrix_a = [1,2,3]\n",
    "matrix_b = [1,2]\n",
    "\n",
    "print(type)\n",
    "for row in matrix_a:\n",
    "    try: \n",
    "        type(row) == \"list\"\n",
    "        if:\n",
    "            len(row) == len(matrix_b)\n",
    "            break\n",
    "        else:\n",
    "            print(\"The matrices are not compatible.\")\n",
    "        break\n",
    "    if type(row) == \"int\":        \n",
    "        try:\n",
    "            len(matrix_a) == len(matrix_b)\n",
    "        except:\n",
    "            print(\"The vectors must be the same length.\")\n",
    "        break\n",
    "    else:\n",
    "        print(\"Please enter an acceptable vector or matrix.\")\n",
    "        break\n",
    "        \n",
    "\n"
   ]
  },
  {
   "cell_type": "code",
   "execution_count": 18,
   "metadata": {
    "collapsed": false
   },
   "outputs": [
    {
     "name": "stdout",
     "output_type": "stream",
     "text": [
      "[4, 4, 7]\n"
     ]
    }
   ],
   "source": [
    "# Vector addition and subtraction second try\n",
    "\n",
    "def vector_add(vector_a, vector_b):\n",
    "    output_vector = []\n",
    "    counter = -1\n",
    "    for x in vector_a:\n",
    "        counter += 1\n",
    "        addition_num = vector_b[counter]\n",
    "        new_num = x + addition_num\n",
    "        output_vector.append(new_num)\n",
    "        continue\n",
    "    print(output_vector)\n",
    "\n",
    "vector_add([2,3,4], [2,1,3])\n",
    "\n"
   ]
  },
  {
   "cell_type": "code",
   "execution_count": 96,
   "metadata": {
    "collapsed": false,
    "scrolled": true
   },
   "outputs": [
    {
     "name": "stdout",
     "output_type": "stream",
     "text": [
      "[1, 3, 0]\n"
     ]
    }
   ],
   "source": [
    "m = [3, 4]\n",
    "n = [5, 0]\n",
    "\n",
    "v = [1, 3, 0]\n",
    "w = [0, 2, 4]\n",
    "u = [1, 1, 1]\n",
    "y = [10, 20, 30]\n",
    "z = [0, 0, 0]\n",
    "\n",
    "# Mean of multiple vectors\n",
    "def vector_add(vector_a, *vector_x):\n",
    "    output_vector = []\n",
    "    for vector in vector_x:\n",
    "        counter = -1\n",
    "        for a in vector:\n",
    "            counter += 1\n",
    "            addition_num = vector_a[counter]  \n",
    "            new_num = a + addition_num \n",
    "            output_vector.append(new_num)\n",
    "        return output_vector\n",
    "            #addition_num = vector_x[counter]\n",
    "            #new_num = x + addition_num\n",
    "        #return output_vector.append(new_num)\n",
    "    #return output_vector\n",
    "print(vector_add(v, z, y))\n",
    "\n"
   ]
  },
  {
   "cell_type": "code",
   "execution_count": 28,
   "metadata": {
    "collapsed": false
   },
   "outputs": [
    {
     "ename": "SyntaxError",
     "evalue": "invalid syntax (<ipython-input-28-8b62596abf3a>, line 2)",
     "output_type": "error",
     "traceback": [
      "\u001b[0;36m  File \u001b[0;32m\"<ipython-input-28-8b62596abf3a>\"\u001b[0;36m, line \u001b[0;32m2\u001b[0m\n\u001b[0;31m    def\u001b[0m\n\u001b[0m        ^\u001b[0m\n\u001b[0;31mSyntaxError\u001b[0m\u001b[0;31m:\u001b[0m invalid syntax\n"
     ]
    }
   ],
   "source": [
    "#shape function\n",
    "def "
   ]
  },
  {
   "cell_type": "code",
   "execution_count": 31,
   "metadata": {
    "collapsed": false
   },
   "outputs": [
    {
     "data": {
      "text/plain": [
       "[4, 6, 8]"
      ]
     },
     "execution_count": 31,
     "metadata": {},
     "output_type": "execute_result"
    }
   ],
   "source": [
    "#vector scalor multiplication\n",
    "\n",
    "def vector_scalar_mult(vector):\n",
    "    output_vector = []\n",
    "    scalar = input(\"Select your scalar: \")\n",
    "    scalar = int(scalar)\n",
    "    for num in vector:\n",
    "        calculated_num = num * scalar\n",
    "        output_vector.append(calculated_num)\n",
    "    print(output_vector)\n",
    "\n",
    "def vector_scalar_mult2(scalar, vector):\n",
    "    output_vector = [num * scalar for num in vector]\n",
    "    return output_vector\n",
    "\n",
    "vector_scalar_mult2(2,[2,3,4])"
   ]
  },
  {
   "cell_type": "code",
   "execution_count": 131,
   "metadata": {
    "collapsed": false
   },
   "outputs": [
    {
     "data": {
      "text/plain": [
       "0"
      ]
     },
     "execution_count": 131,
     "metadata": {},
     "output_type": "execute_result"
    }
   ],
   "source": [
    "# Dot product\n",
    "m = [3, 4]\n",
    "n = [5, 0]\n",
    "\n",
    "v = [1, 3, 0]\n",
    "w = [0, 2, 4]\n",
    "u = [1, 1, 1]\n",
    "y = [10, 20, 30]\n",
    "z = [0, 0, 0]\n",
    "\n",
    "def vector_add(vector_a, vector_b):\n",
    "    output_vector = []\n",
    "    counter = -1\n",
    "    for x in vector_a:\n",
    "        counter += 1\n",
    "        addition_num = vector_b[counter]\n",
    "        new_num = x * addition_num\n",
    "        output_vector.append(new_num)\n",
    "    return sum(output_vector)\n",
    "\n",
    "vector_add(u, z)"
   ]
  },
  {
   "cell_type": "code",
   "execution_count": null,
   "metadata": {
    "collapsed": true
   },
   "outputs": [],
   "source": []
  }
 ],
 "metadata": {
  "kernelspec": {
   "display_name": "Python 3",
   "language": "python",
   "name": "python3"
  },
  "language_info": {
   "codemirror_mode": {
    "name": "ipython",
    "version": 3
   },
   "file_extension": ".py",
   "mimetype": "text/x-python",
   "name": "python",
   "nbconvert_exporter": "python",
   "pygments_lexer": "ipython3",
   "version": "3.5.0"
  }
 },
 "nbformat": 4,
 "nbformat_minor": 0
}
